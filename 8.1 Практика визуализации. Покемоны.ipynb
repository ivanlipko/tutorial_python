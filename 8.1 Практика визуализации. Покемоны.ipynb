{
 "cells": [
  {
   "cell_type": "markdown",
   "metadata": {},
   "source": [
    "Используйте эту тетрадку для работы с данными для покемонами"
   ]
  },
  {
   "cell_type": "markdown",
   "metadata": {},
   "source": [
    "Файлы:\n",
    "- pokemon.csv, основные данные о покемонах;\n",
    "- egg_groups.csv, описание идентификаторов;\n",
    "- abilities.csv, описание abilities."
   ]
  },
  {
   "cell_type": "code",
   "execution_count": 2,
   "metadata": {},
   "outputs": [],
   "source": [
    "import numpy as np\n",
    "import pandas as pd\n",
    "import matplotlib.pyplot as plt\n",
    "plt.style.use('ggplot')\n",
    "%matplotlib inline"
   ]
  },
  {
   "cell_type": "markdown",
   "metadata": {},
   "source": [
    "Загрузка данных из CSV-файла"
   ]
  },
  {
   "cell_type": "code",
   "execution_count": 8,
   "metadata": {},
   "outputs": [
    {
     "name": "stdout",
     "output_type": "stream",
     "text": [
      "(663, 38)\n"
     ]
    }
   ],
   "source": [
    "data = pd.read_csv(\"data/Pokemons/pokemon.csv\", na_values='\"\"')\n",
    "\n",
    "print(data.shape)"
   ]
  },
  {
   "cell_type": "markdown",
   "metadata": {},
   "source": [
    "Краткая статистика каждого столбца данных:"
   ]
  },
  {
   "cell_type": "code",
   "execution_count": 9,
   "metadata": {},
   "outputs": [
    {
     "data": {
      "text/html": [
       "<div>\n",
       "<style scoped>\n",
       "    .dataframe tbody tr th:only-of-type {\n",
       "        vertical-align: middle;\n",
       "    }\n",
       "\n",
       "    .dataframe tbody tr th {\n",
       "        vertical-align: top;\n",
       "    }\n",
       "\n",
       "    .dataframe thead th {\n",
       "        text-align: right;\n",
       "    }\n",
       "</style>\n",
       "<table border=\"1\" class=\"dataframe\">\n",
       "  <thead>\n",
       "    <tr style=\"text-align: right;\">\n",
       "      <th></th>\n",
       "      <th>id</th>\n",
       "      <th>generation_id</th>\n",
       "      <th>ndex</th>\n",
       "      <th>kdex</th>\n",
       "      <th>jdex</th>\n",
       "      <th>jdex_old</th>\n",
       "      <th>hdex</th>\n",
       "      <th>sdex</th>\n",
       "      <th>udex</th>\n",
       "      <th>type1_id</th>\n",
       "      <th>...</th>\n",
       "      <th>exp_yield</th>\n",
       "      <th>base_happiness</th>\n",
       "      <th>egg_group1_id</th>\n",
       "      <th>egg_group2_id</th>\n",
       "      <th>is_baby</th>\n",
       "      <th>baby_breed_item_id</th>\n",
       "      <th>hatch_counter</th>\n",
       "      <th>lvl_100_exp</th>\n",
       "      <th>pokemon_order</th>\n",
       "      <th>legacy_id</th>\n",
       "    </tr>\n",
       "  </thead>\n",
       "  <tbody>\n",
       "    <tr>\n",
       "      <th>count</th>\n",
       "      <td>663.000000</td>\n",
       "      <td>663.000000</td>\n",
       "      <td>663.000000</td>\n",
       "      <td>151.000000</td>\n",
       "      <td>256.000000</td>\n",
       "      <td>251.000000</td>\n",
       "      <td>205.000000</td>\n",
       "      <td>218.000000</td>\n",
       "      <td>158.000000</td>\n",
       "      <td>663.000000</td>\n",
       "      <td>...</td>\n",
       "      <td>663.000000</td>\n",
       "      <td>663.000000</td>\n",
       "      <td>663.000000</td>\n",
       "      <td>175.000000</td>\n",
       "      <td>663.000000</td>\n",
       "      <td>9.000000</td>\n",
       "      <td>663.000000</td>\n",
       "      <td>6.630000e+02</td>\n",
       "      <td>663.000000</td>\n",
       "      <td>505.000000</td>\n",
       "    </tr>\n",
       "    <tr>\n",
       "      <th>mean</th>\n",
       "      <td>529.469080</td>\n",
       "      <td>3.045249</td>\n",
       "      <td>328.033183</td>\n",
       "      <td>76.000000</td>\n",
       "      <td>128.500000</td>\n",
       "      <td>126.000000</td>\n",
       "      <td>102.970732</td>\n",
       "      <td>106.500000</td>\n",
       "      <td>77.879747</td>\n",
       "      <td>8.761689</td>\n",
       "      <td>...</td>\n",
       "      <td>141.375566</td>\n",
       "      <td>66.033183</td>\n",
       "      <td>6.452489</td>\n",
       "      <td>7.908571</td>\n",
       "      <td>0.027149</td>\n",
       "      <td>280.111111</td>\n",
       "      <td>27.669683</td>\n",
       "      <td>1.053326e+06</td>\n",
       "      <td>333.441931</td>\n",
       "      <td>253.019802</td>\n",
       "    </tr>\n",
       "    <tr>\n",
       "      <th>std</th>\n",
       "      <td>1405.496343</td>\n",
       "      <td>1.480305</td>\n",
       "      <td>186.922901</td>\n",
       "      <td>43.734045</td>\n",
       "      <td>74.045031</td>\n",
       "      <td>72.601653</td>\n",
       "      <td>59.272874</td>\n",
       "      <td>60.730063</td>\n",
       "      <td>45.319581</td>\n",
       "      <td>4.785481</td>\n",
       "      <td>...</td>\n",
       "      <td>59.858184</td>\n",
       "      <td>19.112375</td>\n",
       "      <td>4.329735</td>\n",
       "      <td>3.586803</td>\n",
       "      <td>0.162641</td>\n",
       "      <td>27.624466</td>\n",
       "      <td>24.401434</td>\n",
       "      <td>1.686685e+05</td>\n",
       "      <td>193.035763</td>\n",
       "      <td>145.957973</td>\n",
       "    </tr>\n",
       "    <tr>\n",
       "      <th>min</th>\n",
       "      <td>1.000000</td>\n",
       "      <td>1.000000</td>\n",
       "      <td>1.000000</td>\n",
       "      <td>1.000000</td>\n",
       "      <td>1.000000</td>\n",
       "      <td>1.000000</td>\n",
       "      <td>1.000000</td>\n",
       "      <td>1.000000</td>\n",
       "      <td>0.000000</td>\n",
       "      <td>1.000000</td>\n",
       "      <td>...</td>\n",
       "      <td>20.000000</td>\n",
       "      <td>0.000000</td>\n",
       "      <td>1.000000</td>\n",
       "      <td>2.000000</td>\n",
       "      <td>0.000000</td>\n",
       "      <td>231.000000</td>\n",
       "      <td>5.000000</td>\n",
       "      <td>6.000000e+05</td>\n",
       "      <td>1.000000</td>\n",
       "      <td>1.000000</td>\n",
       "    </tr>\n",
       "    <tr>\n",
       "      <th>25%</th>\n",
       "      <td>166.500000</td>\n",
       "      <td>2.000000</td>\n",
       "      <td>166.500000</td>\n",
       "      <td>38.500000</td>\n",
       "      <td>64.750000</td>\n",
       "      <td>63.500000</td>\n",
       "      <td>52.000000</td>\n",
       "      <td>53.250000</td>\n",
       "      <td>39.250000</td>\n",
       "      <td>5.000000</td>\n",
       "      <td>...</td>\n",
       "      <td>83.000000</td>\n",
       "      <td>70.000000</td>\n",
       "      <td>3.000000</td>\n",
       "      <td>5.000000</td>\n",
       "      <td>0.000000</td>\n",
       "      <td>291.000000</td>\n",
       "      <td>20.000000</td>\n",
       "      <td>1.000000e+06</td>\n",
       "      <td>166.500000</td>\n",
       "      <td>127.000000</td>\n",
       "    </tr>\n",
       "    <tr>\n",
       "      <th>50%</th>\n",
       "      <td>332.000000</td>\n",
       "      <td>3.000000</td>\n",
       "      <td>332.000000</td>\n",
       "      <td>76.000000</td>\n",
       "      <td>128.500000</td>\n",
       "      <td>126.000000</td>\n",
       "      <td>103.000000</td>\n",
       "      <td>107.500000</td>\n",
       "      <td>77.500000</td>\n",
       "      <td>10.000000</td>\n",
       "      <td>...</td>\n",
       "      <td>145.000000</td>\n",
       "      <td>70.000000</td>\n",
       "      <td>5.000000</td>\n",
       "      <td>7.000000</td>\n",
       "      <td>0.000000</td>\n",
       "      <td>293.000000</td>\n",
       "      <td>20.000000</td>\n",
       "      <td>1.000000e+06</td>\n",
       "      <td>332.000000</td>\n",
       "      <td>253.000000</td>\n",
       "    </tr>\n",
       "    <tr>\n",
       "      <th>75%</th>\n",
       "      <td>497.500000</td>\n",
       "      <td>4.000000</td>\n",
       "      <td>487.000000</td>\n",
       "      <td>113.500000</td>\n",
       "      <td>192.250000</td>\n",
       "      <td>188.500000</td>\n",
       "      <td>154.000000</td>\n",
       "      <td>156.750000</td>\n",
       "      <td>116.750000</td>\n",
       "      <td>12.000000</td>\n",
       "      <td>...</td>\n",
       "      <td>187.500000</td>\n",
       "      <td>70.000000</td>\n",
       "      <td>10.000000</td>\n",
       "      <td>10.000000</td>\n",
       "      <td>0.000000</td>\n",
       "      <td>295.000000</td>\n",
       "      <td>25.000000</td>\n",
       "      <td>1.059860e+06</td>\n",
       "      <td>500.500000</td>\n",
       "      <td>379.000000</td>\n",
       "    </tr>\n",
       "    <tr>\n",
       "      <th>max</th>\n",
       "      <td>10018.000000</td>\n",
       "      <td>5.000000</td>\n",
       "      <td>649.000000</td>\n",
       "      <td>151.000000</td>\n",
       "      <td>256.000000</td>\n",
       "      <td>251.000000</td>\n",
       "      <td>202.000000</td>\n",
       "      <td>210.000000</td>\n",
       "      <td>155.000000</td>\n",
       "      <td>17.000000</td>\n",
       "      <td>...</td>\n",
       "      <td>390.000000</td>\n",
       "      <td>140.000000</td>\n",
       "      <td>15.000000</td>\n",
       "      <td>14.000000</td>\n",
       "      <td>1.000000</td>\n",
       "      <td>297.000000</td>\n",
       "      <td>120.000000</td>\n",
       "      <td>1.640000e+06</td>\n",
       "      <td>667.000000</td>\n",
       "      <td>505.000000</td>\n",
       "    </tr>\n",
       "  </tbody>\n",
       "</table>\n",
       "<p>8 rows × 30 columns</p>\n",
       "</div>"
      ],
      "text/plain": [
       "                 id  generation_id        ndex        kdex        jdex  \\\n",
       "count    663.000000     663.000000  663.000000  151.000000  256.000000   \n",
       "mean     529.469080       3.045249  328.033183   76.000000  128.500000   \n",
       "std     1405.496343       1.480305  186.922901   43.734045   74.045031   \n",
       "min        1.000000       1.000000    1.000000    1.000000    1.000000   \n",
       "25%      166.500000       2.000000  166.500000   38.500000   64.750000   \n",
       "50%      332.000000       3.000000  332.000000   76.000000  128.500000   \n",
       "75%      497.500000       4.000000  487.000000  113.500000  192.250000   \n",
       "max    10018.000000       5.000000  649.000000  151.000000  256.000000   \n",
       "\n",
       "         jdex_old        hdex        sdex        udex    type1_id     ...      \\\n",
       "count  251.000000  205.000000  218.000000  158.000000  663.000000     ...       \n",
       "mean   126.000000  102.970732  106.500000   77.879747    8.761689     ...       \n",
       "std     72.601653   59.272874   60.730063   45.319581    4.785481     ...       \n",
       "min      1.000000    1.000000    1.000000    0.000000    1.000000     ...       \n",
       "25%     63.500000   52.000000   53.250000   39.250000    5.000000     ...       \n",
       "50%    126.000000  103.000000  107.500000   77.500000   10.000000     ...       \n",
       "75%    188.500000  154.000000  156.750000  116.750000   12.000000     ...       \n",
       "max    251.000000  202.000000  210.000000  155.000000   17.000000     ...       \n",
       "\n",
       "        exp_yield  base_happiness  egg_group1_id  egg_group2_id     is_baby  \\\n",
       "count  663.000000      663.000000     663.000000     175.000000  663.000000   \n",
       "mean   141.375566       66.033183       6.452489       7.908571    0.027149   \n",
       "std     59.858184       19.112375       4.329735       3.586803    0.162641   \n",
       "min     20.000000        0.000000       1.000000       2.000000    0.000000   \n",
       "25%     83.000000       70.000000       3.000000       5.000000    0.000000   \n",
       "50%    145.000000       70.000000       5.000000       7.000000    0.000000   \n",
       "75%    187.500000       70.000000      10.000000      10.000000    0.000000   \n",
       "max    390.000000      140.000000      15.000000      14.000000    1.000000   \n",
       "\n",
       "       baby_breed_item_id  hatch_counter   lvl_100_exp  pokemon_order  \\\n",
       "count            9.000000     663.000000  6.630000e+02     663.000000   \n",
       "mean           280.111111      27.669683  1.053326e+06     333.441931   \n",
       "std             27.624466      24.401434  1.686685e+05     193.035763   \n",
       "min            231.000000       5.000000  6.000000e+05       1.000000   \n",
       "25%            291.000000      20.000000  1.000000e+06     166.500000   \n",
       "50%            293.000000      20.000000  1.000000e+06     332.000000   \n",
       "75%            295.000000      25.000000  1.059860e+06     500.500000   \n",
       "max            297.000000     120.000000  1.640000e+06     667.000000   \n",
       "\n",
       "        legacy_id  \n",
       "count  505.000000  \n",
       "mean   253.019802  \n",
       "std    145.957973  \n",
       "min      1.000000  \n",
       "25%    127.000000  \n",
       "50%    253.000000  \n",
       "75%    379.000000  \n",
       "max    505.000000  \n",
       "\n",
       "[8 rows x 30 columns]"
      ]
     },
     "execution_count": 9,
     "metadata": {},
     "output_type": "execute_result"
    }
   ],
   "source": [
    "data.describe()"
   ]
  },
  {
   "cell_type": "markdown",
   "metadata": {},
   "source": [
    "Посмотрите начало таблицы с данными"
   ]
  },
  {
   "cell_type": "code",
   "execution_count": null,
   "metadata": {},
   "outputs": [],
   "source": []
  },
  {
   "cell_type": "code",
   "execution_count": 5,
   "metadata": {},
   "outputs": [],
   "source": []
  },
  {
   "cell_type": "markdown",
   "metadata": {},
   "source": [
    "# Графики"
   ]
  },
  {
   "cell_type": "markdown",
   "metadata": {},
   "source": [
    "Попробуйте использовать следующие функции для рисования\n",
    "\n",
    "`\n",
    "plt.scatter\n",
    "plt.plot\n",
    "plt.pairplot\n",
    "plt.hist\n",
    "plt.bar\n",
    "`"
   ]
  },
  {
   "cell_type": "markdown",
   "metadata": {},
   "source": [
    "##  Поколения покемонов"
   ]
  },
  {
   "cell_type": "code",
   "execution_count": null,
   "metadata": {},
   "outputs": [],
   "source": []
  },
  {
   "cell_type": "code",
   "execution_count": null,
   "metadata": {},
   "outputs": [],
   "source": []
  },
  {
   "cell_type": "code",
   "execution_count": null,
   "metadata": {},
   "outputs": [],
   "source": []
  },
  {
   "cell_type": "code",
   "execution_count": null,
   "metadata": {},
   "outputs": [],
   "source": []
  },
  {
   "cell_type": "markdown",
   "metadata": {},
   "source": [
    "## Параметры покемонов-детей"
   ]
  },
  {
   "cell_type": "code",
   "execution_count": null,
   "metadata": {},
   "outputs": [],
   "source": []
  },
  {
   "cell_type": "code",
   "execution_count": null,
   "metadata": {},
   "outputs": [],
   "source": []
  },
  {
   "cell_type": "code",
   "execution_count": null,
   "metadata": {},
   "outputs": [],
   "source": []
  },
  {
   "cell_type": "code",
   "execution_count": null,
   "metadata": {},
   "outputs": [],
   "source": []
  },
  {
   "cell_type": "markdown",
   "metadata": {},
   "source": [
    "## Сила покемонов"
   ]
  },
  {
   "cell_type": "code",
   "execution_count": null,
   "metadata": {},
   "outputs": [],
   "source": []
  },
  {
   "cell_type": "code",
   "execution_count": null,
   "metadata": {},
   "outputs": [],
   "source": []
  },
  {
   "cell_type": "code",
   "execution_count": null,
   "metadata": {},
   "outputs": [],
   "source": []
  },
  {
   "cell_type": "code",
   "execution_count": null,
   "metadata": {},
   "outputs": [],
   "source": []
  },
  {
   "cell_type": "markdown",
   "metadata": {},
   "source": [
    "## Что можно узнать из `egg_group`?"
   ]
  },
  {
   "cell_type": "code",
   "execution_count": null,
   "metadata": {},
   "outputs": [],
   "source": []
  },
  {
   "cell_type": "code",
   "execution_count": null,
   "metadata": {},
   "outputs": [],
   "source": []
  },
  {
   "cell_type": "code",
   "execution_count": null,
   "metadata": {},
   "outputs": [],
   "source": []
  },
  {
   "cell_type": "markdown",
   "metadata": {},
   "source": [
    "## Что можно увидеть в `abilities.csv`?"
   ]
  },
  {
   "cell_type": "code",
   "execution_count": null,
   "metadata": {},
   "outputs": [],
   "source": []
  },
  {
   "cell_type": "code",
   "execution_count": null,
   "metadata": {},
   "outputs": [],
   "source": []
  },
  {
   "cell_type": "code",
   "execution_count": null,
   "metadata": {},
   "outputs": [],
   "source": []
  },
  {
   "cell_type": "code",
   "execution_count": null,
   "metadata": {},
   "outputs": [],
   "source": []
  },
  {
   "cell_type": "code",
   "execution_count": null,
   "metadata": {},
   "outputs": [],
   "source": []
  }
 ],
 "metadata": {
  "kernelspec": {
   "display_name": "Python 3",
   "language": "python",
   "name": "python3"
  },
  "language_info": {
   "codemirror_mode": {
    "name": "ipython",
    "version": 3
   },
   "file_extension": ".py",
   "mimetype": "text/x-python",
   "name": "python",
   "nbconvert_exporter": "python",
   "pygments_lexer": "ipython3",
   "version": "3.6.8"
  },
  "toc": {
   "base_numbering": 1,
   "nav_menu": {},
   "number_sections": true,
   "sideBar": true,
   "skip_h1_title": false,
   "title_cell": "Table of Contents",
   "title_sidebar": "Contents",
   "toc_cell": false,
   "toc_position": {},
   "toc_section_display": true,
   "toc_window_display": false
  },
  "varInspector": {
   "cols": {
    "lenName": 16,
    "lenType": 16,
    "lenVar": 40
   },
   "kernels_config": {
    "python": {
     "delete_cmd_postfix": "",
     "delete_cmd_prefix": "del ",
     "library": "var_list.py",
     "varRefreshCmd": "print(var_dic_list())"
    },
    "r": {
     "delete_cmd_postfix": ") ",
     "delete_cmd_prefix": "rm(",
     "library": "var_list.r",
     "varRefreshCmd": "cat(var_dic_list()) "
    }
   },
   "types_to_exclude": [
    "module",
    "function",
    "builtin_function_or_method",
    "instance",
    "_Feature"
   ],
   "window_display": false
  }
 },
 "nbformat": 4,
 "nbformat_minor": 2
}
