{
 "cells": [
  {
   "cell_type": "markdown",
   "metadata": {},
   "source": [
    "# Лекция №2 - Функции"
   ]
  },
  {
   "cell_type": "markdown",
   "metadata": {},
   "source": [
    "**Структурное программирование** -- парадигма, в которой программа представляется в виде иерархии блоков\n",
    "\n",
    "* Программа это:\n",
    "    * Последовательное исполнение\n",
    "    * Ветвление\n",
    "    * Циклы (нет goto)\n",
    "* Повторяющийся код в подпрограммы\n",
    "* Программируй «сверху-вниз» \n",
    "* Инкрементное написание, делегирование, «заглушки»\n"
   ]
  },
  {
   "cell_type": "markdown",
   "metadata": {},
   "source": [
    "Как было сказано раньше, функции — это своего рода готовые кирпичики, из которых строится программа. До этого момента мы использовали стандартные функции (`print`, `input`, функции модуля `turtle`), теперь настало время написать функцию:"
   ]
  },
  {
   "cell_type": "code",
   "execution_count": 60,
   "metadata": {},
   "outputs": [
    {
     "name": "stdout",
     "output_type": "stream",
     "text": [
      "Здравствуй,  Мир !\n"
     ]
    }
   ],
   "source": [
    "def hello(name):\n",
    "    print('Здравствуй, ', name, '!')\n",
    "\n",
    "hello('Мир')"
   ]
  },
  {
   "cell_type": "markdown",
   "metadata": {},
   "source": [
    "Это простейший пример функции, которая принимает в качестве параметра имя, а затем выводит на экран сообщение Hello, <имя>. Как видно из примера, функции в языке Python описываются при помощи ключевого слова def:\n",
    "\n",
    "```python\n",
    "def Имя_функции(параметр_1, параметр_2, ...):\n",
    "    Блок_операций\n",
    "    ...\n",
    "```\n",
    "\n",
    "Тело функции выделяется при помощи отступов (так же, как и в случае циклов и условных операторов).\n",
    "\n",
    "Вызов функции осуществляется по имени с указанием параметров:\n",
    "\n",
    "```python\n",
    "hello('world')\n",
    "```\n",
    "\n",
    "Внутри функции можно использовать те же синтаксические конструкции, что и вне её — циклы, ветвления, можно даже описывать новые функции. Естественно, внутри функции можно работать и с переменными.\n",
    "\n",
    "Написанная ранее функция имеет особенность — она просто выводит текст на экран и не возвращает никакого результата. Многие функции, напротив, занимаются вычислением какого-либо значения, а затем возвращают его тому, кто эту функцию вызвал. В качестве примера можно рассмотреть функцию для сложения двух чисел:"
   ]
  },
  {
   "cell_type": "code",
   "execution_count": 61,
   "metadata": {},
   "outputs": [],
   "source": [
    "def add(a, b):\n",
    "    return a + b"
   ]
  },
  {
   "cell_type": "code",
   "execution_count": 64,
   "metadata": {},
   "outputs": [
    {
     "data": {
      "text/plain": [
       "3"
      ]
     },
     "execution_count": 64,
     "metadata": {},
     "output_type": "execute_result"
    }
   ],
   "source": [
    "add(1, 2)"
   ]
  },
  {
   "cell_type": "code",
   "execution_count": 65,
   "metadata": {},
   "outputs": [
    {
     "data": {
      "text/plain": [
       "-2"
      ]
     },
     "execution_count": 65,
     "metadata": {},
     "output_type": "execute_result"
    }
   ],
   "source": [
    "add(5, -7)"
   ]
  },
  {
   "cell_type": "markdown",
   "metadata": {},
   "source": [
    "Для возврата значения из функции используется оператор `return`: в качестве параметра указывается значение, которое требуется вернуть."
   ]
  },
  {
   "cell_type": "markdown",
   "metadata": {},
   "source": [
    "## Основное\n",
    "\n",
    "Функция - это инструмент программирования, который позволяет не дублировать алгоритм, который часто используется в коде. Кроме того, функции позволяют использовать алгоритмы, разработанные другими программистами, не вдаваясь во внутреннее устройство функции. Подобная иерархическая система позволяет писать такие сложные программы, которые мы видим сегодня.\n",
    "\n",
    "Преимущества повторного использования кода:\n",
    "\n",
    "* Позволяет повысить производительность труда программиста. На проект можно затратить меньше времени и усилий;\n",
    "* Позволяет улучшить качество программ;\n",
    "* Позволяет повысить эффективность ПО. Если есть хороший код, который эффективно работает, то целесообразно использовать его, а не писать новый код.\n",
    "\n",
    "Много функций объединяют и помещают в модули, которые потом можно подсоединить и использовать.\n",
    "\n",
    "\n",
    "**Функция (подпрограмма)** -- именнованный часть программы (блок кода), который может быть вызван из других частей программы.\n",
    "\n",
    "В этой главе мы рассмотрим синтаксис функций и основные правила работы с ними.\n",
    "\n",
    "* Функция объявляется с помощью оператора `def`, за которым следует `имя_функции(список_аргументов):`\n",
    "* Аргументы могут иметь значения по умолчанию, могут не иметь. Аргументы, не имеющие значения по умолчанию записываются первыми\n",
    "* Далее идет тело функции, тело функции обособляется отступом, как и тело цикла, и тело условного оператора.\n",
    "* Функция может возвращать какое-либо значение с помощью оператора return\n",
    "* Функция должна быть объявлена, прежде чем её вызывать"
   ]
  },
  {
   "cell_type": "code",
   "execution_count": 27,
   "metadata": {},
   "outputs": [
    {
     "data": {
      "text/plain": [
       "3"
      ]
     },
     "execution_count": 27,
     "metadata": {},
     "output_type": "execute_result"
    }
   ],
   "source": [
    "def foo(n1, n2):\n",
    "    return n1 + n2   # тело функции\n",
    "\n",
    "foo(1,2)"
   ]
  },
  {
   "cell_type": "code",
   "execution_count": 28,
   "metadata": {},
   "outputs": [
    {
     "ename": "TypeError",
     "evalue": "foo() missing 1 required positional argument: 'n2'",
     "output_type": "error",
     "traceback": [
      "\u001b[1;31m---------------------------------------------------------------------------\u001b[0m",
      "\u001b[1;31mTypeError\u001b[0m                                 Traceback (most recent call last)",
      "\u001b[1;32m<ipython-input-28-7d8d25071659>\u001b[0m in \u001b[0;36m<module>\u001b[1;34m\u001b[0m\n\u001b[1;32m----> 1\u001b[1;33m \u001b[0mfoo\u001b[0m\u001b[1;33m(\u001b[0m\u001b[1;36m1\u001b[0m\u001b[1;33m)\u001b[0m\u001b[1;33m\u001b[0m\u001b[1;33m\u001b[0m\u001b[0m\n\u001b[0m",
      "\u001b[1;31mTypeError\u001b[0m: foo() missing 1 required positional argument: 'n2'"
     ]
    }
   ],
   "source": [
    "foo(1)"
   ]
  },
  {
   "cell_type": "code",
   "execution_count": 44,
   "metadata": {},
   "outputs": [
    {
     "ename": "SyntaxError",
     "evalue": "non-default argument follows default argument (<ipython-input-44-8178e0c78fb0>, line 1)",
     "output_type": "error",
     "traceback": [
      "\u001b[1;36m  File \u001b[1;32m\"<ipython-input-44-8178e0c78fb0>\"\u001b[1;36m, line \u001b[1;32m1\u001b[0m\n\u001b[1;33m    def foo(n2=3, n1):\u001b[0m\n\u001b[1;37m           ^\u001b[0m\n\u001b[1;31mSyntaxError\u001b[0m\u001b[1;31m:\u001b[0m non-default argument follows default argument\n"
     ]
    }
   ],
   "source": [
    "def foo(n2=3, n1):\n",
    "    return n1 + n2"
   ]
  },
  {
   "cell_type": "code",
   "execution_count": 29,
   "metadata": {},
   "outputs": [
    {
     "data": {
      "text/plain": [
       "5"
      ]
     },
     "execution_count": 29,
     "metadata": {},
     "output_type": "execute_result"
    }
   ],
   "source": [
    "def foo(n1, n2=3):\n",
    "    return n1 + n2\n",
    "\n",
    "foo(2)"
   ]
  },
  {
   "cell_type": "markdown",
   "metadata": {},
   "source": [
    "Очевидно, может быть и такое использование функций"
   ]
  },
  {
   "cell_type": "code",
   "execution_count": 33,
   "metadata": {},
   "outputs": [
    {
     "name": "stdout",
     "output_type": "stream",
     "text": [
      "12\n"
     ]
    }
   ],
   "source": [
    "print( add(3, add(4,5) ) )"
   ]
  },
  {
   "cell_type": "markdown",
   "metadata": {},
   "source": [
    "Возврат нескольких параметров:"
   ]
  },
  {
   "cell_type": "code",
   "execution_count": 48,
   "metadata": {},
   "outputs": [
    {
     "name": "stdout",
     "output_type": "stream",
     "text": [
      "1 2 3\n"
     ]
    }
   ],
   "source": [
    "def fun():\n",
    "    return 1, 2, 3\n",
    "\n",
    "a, b, c = fun()\n",
    "print(a, b, c)"
   ]
  },
  {
   "cell_type": "markdown",
   "metadata": {},
   "source": [
    "Ещё пример работы с параметрами."
   ]
  },
  {
   "cell_type": "markdown",
   "metadata": {},
   "source": [
    "## Форматирование строки"
   ]
  },
  {
   "cell_type": "markdown",
   "metadata": {},
   "source": [
    "Допустим мы хотим вывести в строке время, часы, минуты и секунды которого хранятся в переменных"
   ]
  },
  {
   "cell_type": "code",
   "execution_count": 16,
   "metadata": {},
   "outputs": [
    {
     "name": "stdout",
     "output_type": "stream",
     "text": [
      "7 34 37\n",
      "7 : 34 : 37\n"
     ]
    }
   ],
   "source": [
    "h = 7\n",
    "m = 34\n",
    "s = 37\n",
    "\n",
    "print(h,m,s)\n",
    "print(h,':',m,':',s)"
   ]
  },
  {
   "cell_type": "markdown",
   "metadata": {},
   "source": [
    "Эти числа выводятся через пробелы, может быть их следует выводить через двоеточие? Но этот вариант также вставляет пробелы."
   ]
  },
  {
   "cell_type": "code",
   "execution_count": 17,
   "metadata": {},
   "outputs": [
    {
     "name": "stdout",
     "output_type": "stream",
     "text": [
      "Help on built-in function print in module builtins:\n",
      "\n",
      "print(...)\n",
      "    print(value, ..., sep=' ', end='\\n', file=sys.stdout, flush=False)\n",
      "    \n",
      "    Prints the values to a stream, or to sys.stdout by default.\n",
      "    Optional keyword arguments:\n",
      "    file:  a file-like object (stream); defaults to the current sys.stdout.\n",
      "    sep:   string inserted between values, default a space.\n",
      "    end:   string appended after the last value, default a newline.\n",
      "    flush: whether to forcibly flush the stream.\n",
      "\n"
     ]
    }
   ],
   "source": [
    "help(print)"
   ]
  },
  {
   "cell_type": "markdown",
   "metadata": {},
   "source": [
    "Параметр функции `sep` определяет символ для разделения выводимых значений"
   ]
  },
  {
   "cell_type": "code",
   "execution_count": 18,
   "metadata": {},
   "outputs": [
    {
     "name": "stdout",
     "output_type": "stream",
     "text": [
      "7:34:37\n",
      "7:34:37\n"
     ]
    }
   ],
   "source": [
    "print(h,m,s, sep=':')\n",
    "print(h,':',m,':',s, sep='')"
   ]
  },
  {
   "cell_type": "markdown",
   "metadata": {},
   "source": [
    "Можно воспользоваться форматированием строки. В кавычках указывается формат вывода"
   ]
  },
  {
   "cell_type": "code",
   "execution_count": 19,
   "metadata": {},
   "outputs": [
    {
     "name": "stdout",
     "output_type": "stream",
     "text": [
      "07:34:37\n"
     ]
    }
   ],
   "source": [
    "print('%02d:%02d:%02d' % (h,m,s))"
   ]
  },
  {
   "cell_type": "markdown",
   "metadata": {},
   "source": [
    "## Изменение аргументов внутри функции\n",
    "\n",
    "Функции могут действовать явно и неявно:\n",
    "\n",
    "    Явно - это получение результата в переменную, с использованием return\n",
    "    Неявно - изменение передаваемых аргументов внутри функции\n",
    "\n",
    "В питоне, если функции передать *изменяемый* аргумент, то *изменение* его внутри тела функции будет глобальным. Не передавайте изменяемые аргументы функции, если не планируете их менять."
   ]
  },
  {
   "cell_type": "markdown",
   "metadata": {},
   "source": [
    "Строка и число не являются изменяемыми аргументами:"
   ]
  },
  {
   "cell_type": "code",
   "execution_count": 34,
   "metadata": {},
   "outputs": [
    {
     "name": "stdout",
     "output_type": "stream",
     "text": [
      "Duck\n",
      "Duck\n"
     ]
    }
   ],
   "source": [
    "def boss(s):\n",
    "    s = \"I'm a boss!\"\n",
    "    # print(s)\n",
    "    \n",
    "s = 'Duck'\n",
    "print(s)\n",
    "\n",
    "boss(s)\n",
    "print(s)"
   ]
  },
  {
   "cell_type": "code",
   "execution_count": 35,
   "metadata": {},
   "outputs": [
    {
     "name": "stdout",
     "output_type": "stream",
     "text": [
      "10\n",
      "10\n"
     ]
    }
   ],
   "source": [
    "def change_num(n):\n",
    "    n = n **2\n",
    "    \n",
    "n = 10\n",
    "print(n)\n",
    "\n",
    "change_num(n)\n",
    "print(n)"
   ]
  },
  {
   "cell_type": "code",
   "execution_count": null,
   "metadata": {},
   "outputs": [],
   "source": []
  },
  {
   "cell_type": "code",
   "execution_count": null,
   "metadata": {},
   "outputs": [],
   "source": []
  },
  {
   "cell_type": "markdown",
   "metadata": {},
   "source": [
    "## Параметры функции\n",
    "\n",
    "\n",
    "Можно указать ожидаемый тип данных внутри функции. Интерпретатор не будет проверять типы, но автор функции сообщит пользователю-программисту о необходимости следовать тем требованиям, которые к нему предъявляются."
   ]
  },
  {
   "cell_type": "code",
   "execution_count": 21,
   "metadata": {},
   "outputs": [
    {
     "name": "stdout",
     "output_type": "stream",
     "text": [
      "11\n",
      "53.7407\n"
     ]
    }
   ],
   "source": [
    "def add(x:int, y:int):\n",
    "    return x + y\n",
    "\n",
    "print(add(5,6))\n",
    "print(add(5.0567,48.684))"
   ]
  },
  {
   "cell_type": "markdown",
   "metadata": {},
   "source": [
    "Можно также сделать комментарий с уточнением требований к входным параметрам или сделать описание функции (docstring). Команда `docstring` должна быть первой инструкцией после объявления функции. Ее потом можно будет извлекать или дополнять. "
   ]
  },
  {
   "cell_type": "code",
   "execution_count": 53,
   "metadata": {},
   "outputs": [
    {
     "name": "stdout",
     "output_type": "stream",
     "text": [
      "11\n",
      "53.7407\n"
     ]
    }
   ],
   "source": [
    "def add(x:'int > 0', y:'int > 0'):\n",
    "    'Эта функция выполняет сложение целых положительных паметров x и y'\n",
    "    return x + y\n",
    "\n",
    "print(add(5,6))\n",
    "print(add(5.0567,48.684))"
   ]
  },
  {
   "cell_type": "code",
   "execution_count": 54,
   "metadata": {},
   "outputs": [
    {
     "data": {
      "text/plain": [
       "{'x': 'int > 0', 'y': 'int > 0'}"
      ]
     },
     "execution_count": 54,
     "metadata": {},
     "output_type": "execute_result"
    }
   ],
   "source": [
    "add.__annotations__"
   ]
  },
  {
   "cell_type": "code",
   "execution_count": 55,
   "metadata": {},
   "outputs": [
    {
     "data": {
      "text/plain": [
       "'Эта функция выполняет сложение целых положительных паметров x и y'"
      ]
     },
     "execution_count": 55,
     "metadata": {},
     "output_type": "execute_result"
    }
   ],
   "source": [
    "add.__doc__"
   ]
  },
  {
   "cell_type": "markdown",
   "metadata": {},
   "source": [
    "### Формальные и фактические параметры\n",
    "\n",
    "В предыдущих примерах  \n",
    "\n",
    "```python\n",
    "print(add(5,6))\n",
    "```\n",
    "\n",
    "5 и 6 - фактически передаваемые значения в фукнцию `add`, в то время как `x` и `y` являются формальными, определены внутри функции. \n",
    "\n",
    "Результат функции `add` фактически передаётся в фукнцию `print`.\n",
    "\n",
    "Сколько и какие параметры в следующем примере?\n",
    "\n",
    "```python\n",
    "print('Сэр, овсянка!')\n",
    "```"
   ]
  },
  {
   "cell_type": "markdown",
   "metadata": {},
   "source": [
    "## Черепаха\n",
    "\n",
    "Стандартная библиотека Python содержит модуль `turtle`, предназначенный для обучения программированию. Этот модуль содержит набор функций, позволяющих управлять черепахой. Черепаха умеет выполнять небольшой набор команд, а именно:\n",
    "\n",
    "|Команда |\tЗначение|\n",
    "|:-:|:-|\n",
    "|forward(X)| \tПройти вперёд X пикселей|\n",
    "|backward(X)| \tПройти назад X пикселей|\n",
    "|left(X)| \tПовернуться налево на X градусов|\n",
    "|right(X)| \tПовернуться направо на X градусов|\n",
    "|penup() |\tНе оставлять след при движении|\n",
    "|pendown() |\tОставлять след при движении|\n",
    "|shape(X)| \tИзменить значок черепахи (“arrow”, “turtle”, |“circle”, “square”, “triangle”, “classic”)\n",
    "|stamp() |\tНарисовать копию черепахи в текущем месте|\n",
    "|color() |\tУстановить цвет|\n",
    "|begin_fill() |\tНеобходимо вызвать перед рисованием фигуры, |которую надо закрасить\n",
    "|end_fill() |\tВызвать после окончания рисования фигуры|\n",
    "|width() |\tУстановить толщину линии|\n",
    "|goto(x,y) | \tПереместить черепашку в точку (x, y)|\n",
    "|bye()| Закрыть окно черепашки|\n",
    "\n",
    "Вызов этих функций производится через обращение к черепашке, поскольку они являются непосредственной частью этой черепашки.\n",
    "\n",
    "Полный список функций:"
   ]
  },
  {
   "cell_type": "code",
   "execution_count": 56,
   "metadata": {},
   "outputs": [
    {
     "data": {
      "text/plain": [
       "['Canvas',\n",
       " 'Pen',\n",
       " 'RawPen',\n",
       " 'RawTurtle',\n",
       " 'Screen',\n",
       " 'ScrolledCanvas',\n",
       " 'Shape',\n",
       " 'TK',\n",
       " 'TNavigator',\n",
       " 'TPen',\n",
       " 'Tbuffer',\n",
       " 'Terminator',\n",
       " 'Turtle',\n",
       " 'TurtleGraphicsError',\n",
       " 'TurtleScreen',\n",
       " 'TurtleScreenBase',\n",
       " 'Vec2D',\n",
       " '_CFG',\n",
       " '_LANGUAGE',\n",
       " '_Root',\n",
       " '_Screen',\n",
       " '_TurtleImage',\n",
       " '__all__',\n",
       " '__builtins__',\n",
       " '__cached__',\n",
       " '__doc__',\n",
       " '__file__',\n",
       " '__forwardmethods',\n",
       " '__func_body',\n",
       " '__loader__',\n",
       " '__methodDict',\n",
       " '__methods',\n",
       " '__name__',\n",
       " '__package__',\n",
       " '__spec__',\n",
       " '__stringBody',\n",
       " '_alias_list',\n",
       " '_make_global_funcs',\n",
       " '_screen_docrevise',\n",
       " '_tg_classes',\n",
       " '_tg_screen_functions',\n",
       " '_tg_turtle_functions',\n",
       " '_tg_utilities',\n",
       " '_turtle_docrevise',\n",
       " '_ver',\n",
       " 'addshape',\n",
       " 'back',\n",
       " 'backward',\n",
       " 'begin_fill',\n",
       " 'begin_poly',\n",
       " 'bgcolor',\n",
       " 'bgpic',\n",
       " 'bk',\n",
       " 'bye',\n",
       " 'circle',\n",
       " 'clear',\n",
       " 'clearscreen',\n",
       " 'clearstamp',\n",
       " 'clearstamps',\n",
       " 'clone',\n",
       " 'color',\n",
       " 'colormode',\n",
       " 'config_dict',\n",
       " 'deepcopy',\n",
       " 'degrees',\n",
       " 'delay',\n",
       " 'distance',\n",
       " 'done',\n",
       " 'dot',\n",
       " 'down',\n",
       " 'end_fill',\n",
       " 'end_poly',\n",
       " 'exitonclick',\n",
       " 'fd',\n",
       " 'fillcolor',\n",
       " 'filling',\n",
       " 'forward',\n",
       " 'get_poly',\n",
       " 'get_shapepoly',\n",
       " 'getcanvas',\n",
       " 'getmethparlist',\n",
       " 'getpen',\n",
       " 'getscreen',\n",
       " 'getshapes',\n",
       " 'getturtle',\n",
       " 'goto',\n",
       " 'heading',\n",
       " 'hideturtle',\n",
       " 'home',\n",
       " 'ht',\n",
       " 'inspect',\n",
       " 'isdown',\n",
       " 'isfile',\n",
       " 'isvisible',\n",
       " 'join',\n",
       " 'left',\n",
       " 'listen',\n",
       " 'lt',\n",
       " 'mainloop',\n",
       " 'math',\n",
       " 'mode',\n",
       " 'numinput',\n",
       " 'onclick',\n",
       " 'ondrag',\n",
       " 'onkey',\n",
       " 'onkeypress',\n",
       " 'onkeyrelease',\n",
       " 'onrelease',\n",
       " 'onscreenclick',\n",
       " 'ontimer',\n",
       " 'pd',\n",
       " 'pen',\n",
       " 'pencolor',\n",
       " 'pendown',\n",
       " 'pensize',\n",
       " 'penup',\n",
       " 'pos',\n",
       " 'position',\n",
       " 'pu',\n",
       " 'radians',\n",
       " 'read_docstrings',\n",
       " 'readconfig',\n",
       " 'register_shape',\n",
       " 'reset',\n",
       " 'resetscreen',\n",
       " 'resizemode',\n",
       " 'right',\n",
       " 'rt',\n",
       " 'screensize',\n",
       " 'seth',\n",
       " 'setheading',\n",
       " 'setpos',\n",
       " 'setposition',\n",
       " 'settiltangle',\n",
       " 'setundobuffer',\n",
       " 'setup',\n",
       " 'setworldcoordinates',\n",
       " 'setx',\n",
       " 'sety',\n",
       " 'shape',\n",
       " 'shapesize',\n",
       " 'shapetransform',\n",
       " 'shearfactor',\n",
       " 'showturtle',\n",
       " 'simpledialog',\n",
       " 'speed',\n",
       " 'split',\n",
       " 'st',\n",
       " 'stamp',\n",
       " 'sys',\n",
       " 'textinput',\n",
       " 'tilt',\n",
       " 'tiltangle',\n",
       " 'time',\n",
       " 'title',\n",
       " 'towards',\n",
       " 'tracer',\n",
       " 'turtles',\n",
       " 'turtlesize',\n",
       " 'types',\n",
       " 'undo',\n",
       " 'undobufferentries',\n",
       " 'up',\n",
       " 'update',\n",
       " 'width',\n",
       " 'window_height',\n",
       " 'window_width',\n",
       " 'write',\n",
       " 'write_docstringdict',\n",
       " 'xcor',\n",
       " 'ycor']"
      ]
     },
     "execution_count": 56,
     "metadata": {},
     "output_type": "execute_result"
    }
   ],
   "source": [
    "dir(turtle)"
   ]
  },
  {
   "cell_type": "markdown",
   "metadata": {},
   "source": [
    "Например, следующая программа рисует букву S:"
   ]
  },
  {
   "cell_type": "code",
   "execution_count": 1,
   "metadata": {},
   "outputs": [],
   "source": [
    "import turtle\n",
    "\n",
    "turtle.clearscreen()\n",
    "turtle.shape('turtle')\n",
    "turtle.forward(50)\n",
    "turtle.left(90)\n",
    "turtle.forward(50)\n",
    "turtle.left(90)\n",
    "turtle.forward(50)\n",
    "turtle.right(90)\n",
    "turtle.forward(50)\n",
    "turtle.right(90)\n",
    "turtle.forward(50)\n",
    "\n",
    "turtle.penup()\n",
    "turtle.goto(0,0)"
   ]
  },
  {
   "cell_type": "code",
   "execution_count": 2,
   "metadata": {},
   "outputs": [],
   "source": [
    "turtle.bye()"
   ]
  },
  {
   "cell_type": "markdown",
   "metadata": {},
   "source": [
    "## Структурное программирование\n",
    "\n",
    "> Пример: рисуем поляну, на которой будут козлики, горы ,солнцы и травка\n",
    "\n",
    "* Анализируем задачу: что надо сделать, что понадобится\n",
    "* Пишем функции-пустышки согласно заданию\n",
    "* **отладочная печать в функциях для проверки работы функций**\n",
    "* наполняем каждую функцию реальным кодом"
   ]
  },
  {
   "cell_type": "code",
   "execution_count": null,
   "metadata": {},
   "outputs": [],
   "source": []
  },
  {
   "cell_type": "markdown",
   "metadata": {},
   "source": [
    "### Пример результата"
   ]
  },
  {
   "cell_type": "code",
   "execution_count": 46,
   "metadata": {},
   "outputs": [],
   "source": [
    "def draw_scene():\n",
    "    draw_sky()\n",
    "    draw_bottom()\n",
    "    draw_kozel()\n",
    "    \n",
    "def draw_sky()   :\n",
    "    print('draw_sky')\n",
    "    draw_sun()\n",
    "\n",
    "def draw_bottom():\n",
    "    print('draw_bottom')\n",
    "    draw_tree() \n",
    "    draw_mountain()\n",
    "\n",
    "def draw_sun():\n",
    "    print('draw_sun')\n",
    "    \n",
    "def draw_tree() :\n",
    "    print('draw_tree')\n",
    "    \n",
    "def draw_mountain():\n",
    "    print('draw_mountain')\n",
    "    \n",
    "def draw_kozel():\n",
    "    print('draw_kozel')"
   ]
  },
  {
   "cell_type": "code",
   "execution_count": 45,
   "metadata": {},
   "outputs": [
    {
     "name": "stdout",
     "output_type": "stream",
     "text": [
      "draw_sky\n",
      "draw_bottom\n",
      "draw_kozel\n"
     ]
    }
   ],
   "source": [
    "# первая итерация\n",
    "draw_scene()"
   ]
  },
  {
   "cell_type": "code",
   "execution_count": 47,
   "metadata": {},
   "outputs": [
    {
     "name": "stdout",
     "output_type": "stream",
     "text": [
      "draw_sky\n",
      "draw_sun\n",
      "draw_bottom\n",
      "draw_tree\n",
      "draw_mountain\n",
      "draw_kozel\n"
     ]
    }
   ],
   "source": [
    "# вторая итерация\n",
    "draw_scene()"
   ]
  },
  {
   "cell_type": "code",
   "execution_count": null,
   "metadata": {},
   "outputs": [],
   "source": [
    "# третья итерация - наполняем выполняющим кодом\n"
   ]
  },
  {
   "cell_type": "markdown",
   "metadata": {},
   "source": [
    "## Задания"
   ]
  },
  {
   "cell_type": "markdown",
   "metadata": {},
   "source": [
    "### Практическая работа\n",
    "\n",
    "с помощью черепашки:\n",
    "* написать первую букву своего имени\n",
    "* Нарисовать квадрат\n",
    "* нарисовать через функции:\n",
    "    * домик\n",
    "    * солнце\n"
   ]
  },
  {
   "cell_type": "markdown",
   "metadata": {},
   "source": [
    "### Домашнаяя работа"
   ]
  },
  {
   "cell_type": "markdown",
   "metadata": {},
   "source": [
    "С помощью черепашки:\n",
    "\n",
    "* написать первую букву своей фамилии\n",
    "\n",
    "Нарисовать животных, используя функции для их частей:\n",
    "* Котик\n",
    "* Собака\n",
    "* Птица\n",
    "* Единорог\n",
    "* Рыба\n",
    "\n",
    "\n",
    "Примеры работ http://cs.mipt.ru/python/lessons/lab2.html"
   ]
  },
  {
   "cell_type": "markdown",
   "metadata": {},
   "source": [
    "# Используемый материал"
   ]
  },
  {
   "cell_type": "markdown",
   "metadata": {},
   "source": [
    "Ниже представлены ссылки на ресурсы, которые были использованы для составления и написания этих лекций.\n",
    "\n",
    "* Лутц Марк. Python. Карманный справочник. 5-е издание, 2016.\n",
    "* http://cs.mipt.ru/python -- курс лекций и практических занятий по Питону от Тимофея Хирьянова\n",
    "    https://www.youtube.com/watch?v=us7y0UhTq0s&list=PLRDzFCPr95fIDJUvFxvzWxg-V9BmZlMMe\n",
    "    https://www.youtube.com/watch?v=4NvtHHWoWXE&list=PLRDzFCPr95fIDJUvFxvzWxg-V9BmZlMMe&index=3\n",
    "    \n",
    "* Абрамян М.Э. Электронный задачник по программированию, 2005.\n",
    "* Курс Сириус по Питону, (Павел Темирчев, Эмели Драль), 2016.\n",
    "\n",
    "* https://www.bestprog.net/ru/2020/10/11/python-arguments-in-functions-passing-arguments-to-a-function-changing-arguments-in-the-body-of-a-function-ru/\n",
    "\n",
    "[Оформление Markdown](https://medium.com/analytics-vidhya/the-ultimate-markdown-guide-for-jupyter-notebook-d5e5abf728fd)"
   ]
  },
  {
   "cell_type": "markdown",
   "metadata": {},
   "source": [
    "Конвертирование в HTML\n",
    "\n",
    "https://jupyter-contrib-nbextensions.readthedocs.io/en/latest/nbextensions/toc2/README.html"
   ]
  }
 ],
 "metadata": {
  "anaconda-cloud": {},
  "kernelspec": {
   "display_name": "Python 3",
   "language": "python",
   "name": "python3"
  },
  "language_info": {
   "codemirror_mode": {
    "name": "ipython",
    "version": 3
   },
   "file_extension": ".py",
   "mimetype": "text/x-python",
   "name": "python",
   "nbconvert_exporter": "python",
   "pygments_lexer": "ipython3",
   "version": "3.7.3"
  },
  "toc": {
   "base_numbering": 1,
   "nav_menu": {},
   "number_sections": true,
   "sideBar": true,
   "skip_h1_title": false,
   "title_cell": "Table of Contents",
   "title_sidebar": "Contents",
   "toc_cell": false,
   "toc_position": {
    "height": "calc(100% - 180px)",
    "left": "10px",
    "top": "150px",
    "width": "324px"
   },
   "toc_section_display": true,
   "toc_window_display": true
  },
  "varInspector": {
   "cols": {
    "lenName": 16,
    "lenType": 16,
    "lenVar": 40
   },
   "kernels_config": {
    "python": {
     "delete_cmd_postfix": "",
     "delete_cmd_prefix": "del ",
     "library": "var_list.py",
     "varRefreshCmd": "print(var_dic_list())"
    },
    "r": {
     "delete_cmd_postfix": ") ",
     "delete_cmd_prefix": "rm(",
     "library": "var_list.r",
     "varRefreshCmd": "cat(var_dic_list()) "
    }
   },
   "position": {
    "height": "484px",
    "left": "1860px",
    "right": "20px",
    "top": "134px",
    "width": "303px"
   },
   "types_to_exclude": [
    "module",
    "function",
    "builtin_function_or_method",
    "instance",
    "_Feature"
   ],
   "window_display": true
  }
 },
 "nbformat": 4,
 "nbformat_minor": 1
}
